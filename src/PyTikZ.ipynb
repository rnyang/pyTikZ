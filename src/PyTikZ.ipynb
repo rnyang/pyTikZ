{
 "cells": [
  {
   "cell_type": "code",
   "execution_count": 1,
   "metadata": {
    "collapsed": true
   },
   "outputs": [],
   "source": [
    "# Plan:\n",
    "\n",
    "# Class: TikZPicture\n",
    "# Members:\n",
    "# - points (coordinates)\n",
    "# - objects\n",
    "\n",
    "# Methods:\n",
    "# - produce TeX code\n",
    "# - add point (dot, no dot)\n",
    "# - add line (normal, thick, dashed)\n",
    "# - add label"
   ]
  },
  {
   "cell_type": "code",
   "execution_count": 176,
   "metadata": {
    "collapsed": false
   },
   "outputs": [],
   "source": [
    "import uuid\n",
    "\n",
    "class TikZPicture:\n",
    "    \n",
    "    def __init__(self):\n",
    "        self.coordinates = {}\n",
    "        self.objects = []\n",
    "        \n",
    "    # Add named coordinates to picture\n",
    "    def addCoordinate(self, x, y, name=None):\n",
    "        if name == None:\n",
    "            n = \"c\" + str(uuid.uuid1().int)[-5:]\n",
    "        else:\n",
    "            n = name\n",
    "            \n",
    "        self.coordinates[n] = (x,y)\n",
    "        return n\n",
    "        \n",
    "    def getCoordinate(self, coordinate):\n",
    "        if type(coordinate) == str:\n",
    "            cname = coordinate\n",
    "        else:\n",
    "            cname = self.addCoordinate(coordinate[0], coordinate[1])\n",
    "        return cname\n",
    "        \n",
    "    # Add a point with an optional label\n",
    "    def addPoint(self, coordinate, label=\"\", nodeOptions=[]):\n",
    "\n",
    "        cname = self.getCoordinate(coordinate)\n",
    "        \n",
    "        p = {\"kind\":\"point\",\\\n",
    "             \"label\":label,\\\n",
    "             \"coordinate\":cname,\\\n",
    "             \"nodeOptions\":nodeOptions}\n",
    "        self.objects.append(p)\n",
    "        \n",
    "    # Add a label with no point\n",
    "    def addLabel(self, coordinate, label, options=[]):\n",
    "            \n",
    "        cname = self.getCoordinate(coordinate)\n",
    "            \n",
    "        p = {\"kind\":\"label\",\\\n",
    "             \"label\":label,\\\n",
    "             \"coordinate\":cname,\\\n",
    "             \"options\":options}\n",
    "        self.objects.append(p)\n",
    "        \n",
    "        \n",
    "    # Add a line with at least two points\n",
    "    def addLine(self, coords, options=[], angles=[]):\n",
    "        \n",
    "        # For each coordinate, construct it if no name\n",
    "        cs = []\n",
    "        for c in coords:\n",
    "            cs.append(self.getCoordinate(c))\n",
    "        \n",
    "        p = {\"kind\":\"line\",\\\n",
    "             \"coords\":cs,\\\n",
    "             \"options\":options,\\\n",
    "             \"angles\":angles}\n",
    "        self.objects.append(p)\n",
    "        \n",
    "    # Draw Axes (0,y) -> (0,0) -> (x,0)\n",
    "    def addAx(self, x, y, xlabel=\"\", ylabel=\"\", options=[]):\n",
    "        \n",
    "        self.addCoordinate(0, y, \"yax\")\n",
    "        self.addCoordinate(x, 0, \"xax\")\n",
    "        \n",
    "        p = {\"kind\":\"axes\",\\\n",
    "            \"x\":\"xax\",\\\n",
    "            \"y\":\"yax\",\\\n",
    "            \"xlabel\":xlabel,\\\n",
    "            \"ylabel\":ylabel}\n",
    "        self.objects.append(p)\n",
    "        \n",
    "    def addPlot(self, formula, domain, options=[]):\n",
    "        \n",
    "        p = {\"kind\":\"plot\",\\\n",
    "             \"formula\":formula,\\\n",
    "             \"domain\":domain,\\\n",
    "             \"options\":options}\n",
    "        self.objects.append(p)\n",
    "        \n",
    "    # Output TikZ Code\n",
    "    # do all this at end, so we build the TikZ snippet in\n",
    "    # the right order because TeX is dumb\n",
    "    def build(self):\n",
    "        tikzString = \"\"\n",
    "        tikzString += \"\\\\begin{tikzpicture}\\n\"\n",
    "        \n",
    "        # Add coordinates\n",
    "        for c in self.coordinates.keys():\n",
    "            tikzString += \"\\\\coordinate (%s) at (%f,%f);\" \\\n",
    "                % (c, self.coordinates[c][0], self.coordinates[c][1]) + \"\\n\"\n",
    "        \n",
    "        # Add objects\n",
    "        for o in self.objects:\n",
    "            \n",
    "            if o['kind'] == \"axes\":\n",
    "                tikzString += \"\\\\draw[<->] (%s) node[above] {%s} -- (0,0) -- (%s) node[right]{%s}\" \\\n",
    "                    % (o['y'], o['ylabel'], o['x'], o['xlabel']) + \";\\n\"\n",
    "                    \n",
    "            if o['kind'] == \"point\":\n",
    "                tikzString += \"\\\\filldraw [black] (%s) circle (2pt) node[\" % (o['coordinate'])\n",
    "                \n",
    "                # Add node options\n",
    "                for i, n in enumerate(o['nodeOptions']):\n",
    "                    if i != 0:\n",
    "                        tikzString += \", \"\n",
    "                    tikzString += n\n",
    "                \n",
    "                tikzString += \"] {%s}\" \\\n",
    "                    % (o['label']) + \";\\n\"\n",
    "                    \n",
    "            if o['kind'] == \"label\":\n",
    "                tikzString += \"\\\\node[\"\n",
    "                \n",
    "                for opt in o['options']:\n",
    "                    tikzString += opt + \", \"\n",
    "                \n",
    "                tikzString += \"] at (%s) {%s}\" \\\n",
    "                    % (o['coordinate'], o['label']) + \";\\n\"\n",
    "                    \n",
    "            if o['kind'] == \"line\":\n",
    "                tikzString += \"\\\\draw [\"\n",
    "                \n",
    "                # Add options one by one\n",
    "                \n",
    "                for opt in o['options']:\n",
    "                    tikzString += opt + \", \"\n",
    "                \n",
    "                tikzString += \"]  \"\n",
    "                \n",
    "                # Add coordinates one by one\n",
    "                \n",
    "                # Add angles if smooth plot\n",
    "                if 'smooth' in o['options']:\n",
    "                    for i, c in enumerate(o['coords']):\n",
    "                        if i != 0:\n",
    "                            tikzString += \" to [out=%f,in=%f] \" % o['angles'][i-1]\n",
    "                        tikzString += \"(%s) \" % (c)\n",
    "                    \n",
    "                # Add straight lines if not curved\n",
    "                else:\n",
    "                    for i, c in enumerate(o['coords']):\n",
    "                        if i != 0:\n",
    "                            tikzString += \" -- \"\n",
    "                        tikzString += \"(%s) \" % (c)\n",
    "                \n",
    "                tikzString += \";\\n\"\n",
    "                \n",
    "            if o['kind'] == \"plot\":\n",
    "                tikzString += \"\\\\draw [\"\n",
    "                \n",
    "                # Add options one by one\n",
    "                \n",
    "                for opt in o['options']:\n",
    "                    tikzString += opt + \", \"\n",
    "                \n",
    "                # Add domain, variable, and formula\n",
    "                \n",
    "                tikzString += \"domain=%f:%f] plot (\\\\x, {%s});\\n\" % \\\n",
    "                    (o['domain'][0], o['domain'][1], o['formula'])\n",
    "        \n",
    "        tikzString += \"\\\\end{tikzpicture}\\n\"\n",
    "        \n",
    "        return tikzString"
   ]
  },
  {
   "cell_type": "code",
   "execution_count": 141,
   "metadata": {
    "collapsed": false
   },
   "outputs": [
    {
     "data": {
      "text/plain": [
       "[0, 1, 2]"
      ]
     },
     "execution_count": 141,
     "metadata": {},
     "output_type": "execute_result"
    }
   ],
   "source": [
    "[0,1] + [2]"
   ]
  },
  {
   "cell_type": "code",
   "execution_count": 129,
   "metadata": {
    "collapsed": false
   },
   "outputs": [
    {
     "name": "stdout",
     "output_type": "stream",
     "text": [
      "\\begin{tikzpicture}\n",
      "\\coordinate (c61139) at (11,2);\n",
      "\\coordinate (c36627) at (2,2);\n",
      "\\coordinate (c42515) at (2,10);\n",
      "\\coordinate (c35315) at (6,0);\n",
      "\\coordinate (yax) at (0,11);\n",
      "\\coordinate (xax) at (11,0);\n",
      "\\coordinate (c50995) at (0,6);\n",
      "\\coordinate (c73683) at (6,6);\n",
      "\\coordinate (c54419) at (0,6);\n",
      "\\coordinate (c71379) at (6,0);\n",
      "\\coordinate (c49619) at (10,2);\n",
      "\\coordinate (c64435) at (11,10);\n",
      "\\coordinate (c94355) at (10,10);\n",
      "\\coordinate (c14547) at (6,6);\n",
      "\\draw[<->] (yax) node[above] {Price} -- (0,0) -- (xax) node[right]{Quantity};\n",
      "\\draw []  (c36627)  -- (c94355) ;\n",
      "\\draw []  (c42515)  -- (c49619) ;\n",
      "\\draw [dashed ]  (c50995)  -- (c14547) ;\n",
      "\\draw [dashed ]  (c71379)  -- (c73683) ;\n",
      "\\node[draw] at (c64435) {Supply};\n",
      "\\node[draw] at (c61139) {Demand};\n",
      "\\filldraw [black] (c54419) circle (2pt) node[left] {$p^*$};\n",
      "\\filldraw [black] (c35315) circle (2pt) node[below] {$q^*$};\n",
      "\\end{tikzpicture}\n",
      "\n"
     ]
    }
   ],
   "source": [
    "t = TikZPicture()\n",
    "t.addAx(11, 11, xlabel=\"Quantity\", ylabel=\"Price\")\n",
    "\n",
    "t.addLine([(2,2), (10,10)])\n",
    "t.addLine([(2,10), (10,2)])\n",
    "t.addLine([(0,6), (6,6)], options=['dashed'])\n",
    "t.addLine([(6,0), (6,6)], options=['dashed'])\n",
    "\n",
    "t.addLabel((11,10), \"Supply\")\n",
    "t.addLabel((11,2), \"Demand\")\n",
    "\n",
    "t.addPoint((0,6), \"$p^*$\", nodeOptions=['left'])\n",
    "t.addPoint((6,0), \"$q^*$\", nodeOptions=['below'])\n",
    "\n",
    "print(t.build())"
   ]
  },
  {
   "cell_type": "code",
   "execution_count": 139,
   "metadata": {
    "collapsed": false
   },
   "outputs": [
    {
     "name": "stdout",
     "output_type": "stream",
     "text": [
      "\\begin{tikzpicture}\n",
      "\\coordinate (c50867) at (2,10);\n",
      "\\coordinate (yax) at (0,11);\n",
      "\\coordinate (c94547) at (10,2);\n",
      "\\coordinate (xax) at (11,0);\n",
      "\\coordinate (c55795) at (0,8);\n",
      "\\coordinate (c08435) at (0,8);\n",
      "\\coordinate (c94579) at (8,0);\n",
      "\\coordinate (c51955) at (4,4);\n",
      "\\coordinate (c31891) at (4,4);\n",
      "\\coordinate (c91763) at (8,0);\n",
      "\\draw[<->] (yax) node[above] {Carrots} -- (0,0) -- (xax) node[right]{Peas};\n",
      "\\draw [dashed ]  (c55795)  -- (c91763) ;\n",
      "\\draw [smooth ]  (c50867)  to [out=-90,in=135] (c51955)  to [out=-45,in=180] (c94547) ;\n",
      "\\filldraw [black] (c08435) circle (2pt) node[left] {$\\frac{Y}{p_c}$};\n",
      "\\filldraw [black] (c94579) circle (2pt) node[below] {$\\frac{Y}{p_p}$};\n",
      "\\filldraw [black] (c31891) circle (2pt) node[above right] {$(q_p^*,q_c^*)$};\n",
      "\\end{tikzpicture}\n",
      "\n"
     ]
    }
   ],
   "source": [
    "t = TikZPicture()\n",
    "t.addAx(11, 11, xlabel=\"Peas\", ylabel=\"Carrots\")\n",
    "\n",
    "t.addLine([(0,8), (8,0)], options=['dashed'])\n",
    "t.addLine([(2,10), (4,4), (10,2)], options=['smooth'], angles=[(-90,135), (-45,180)])\n",
    "\n",
    "t.addPoint((0,8), \"$\\\\frac{Y}{p_c}$\", nodeOptions=['left'])\n",
    "t.addPoint((8,0), \"$\\\\frac{Y}{p_p}$\", nodeOptions=['below'])\n",
    "\n",
    "t.addPoint((4,4), \"$(q_p^*,q_c^*)$\", nodeOptions=['above right'])\n",
    "\n",
    "print(t.build())"
   ]
  },
  {
   "cell_type": "code",
   "execution_count": 178,
   "metadata": {
    "collapsed": false
   },
   "outputs": [
    {
     "name": "stdout",
     "output_type": "stream",
     "text": [
      "\\begin{tikzpicture}\n",
      "\\coordinate (c75315) at (0.000000,0.000000);\n",
      "\\coordinate (c65779) at (10.000000,10.800000);\n",
      "\\coordinate (c40435) at (5.711000,0.000000);\n",
      "\\coordinate (c56147) at (5.711000,10.000000);\n",
      "\\coordinate (xax) at (11.000000,0.000000);\n",
      "\\coordinate (c12499) at (10.000000,7.120000);\n",
      "\\coordinate (c09011) at (10.000000,10.000000);\n",
      "\\coordinate (c03347) at (10.000000,10.000000);\n",
      "\\coordinate (c86675) at (5.711000,0.000000);\n",
      "\\coordinate (yax) at (0.000000,11.000000);\n",
      "\\draw[<->] (yax) node[above] {} -- (0,0) -- (xax) node[right]{$k$};\n",
      "\\draw [domain=0.000000:10.000000] plot (\\x, {4.5*ln(\\x+1)});\n",
      "\\draw [domain=0.000000:10.000000] plot (\\x, {3*ln(\\x+1)});\n",
      "\\draw []  (c75315)  -- (c09011) ;\n",
      "\\draw [dashed, ]  (c40435)  -- (c56147) ;\n",
      "\\node[below, ] at (c86675) {$k^*$};\n",
      "\\node[right, ] at (c03347) {$(n+g+\\delta)k$};\n",
      "\\node[right, ] at (c65779) {$f(k)$};\n",
      "\\node[right, ] at (c12499) {$sf(k)$};\n",
      "\\end{tikzpicture}\n",
      "\n"
     ]
    }
   ],
   "source": [
    "t = TikZPicture()\n",
    "t.addAx(11, 11, xlabel=\"$k$\", ylabel=\"\")\n",
    "\n",
    "t.addPlot(\"4.5*ln(\\\\x+1)\", [0,10]) # income\n",
    "t.addPlot(\"3*ln(\\\\x+1)\", [0,10])   # investment\n",
    "t.addLine([(0,0), (10,10)])        # depreciation\n",
    "\n",
    "t.addLine([(5.711,0), (5.711,10)], options=['dashed'])\n",
    "t.addLabel((5.711,0), \"$k^*$\", options=['below'])\n",
    "\n",
    "t.addLabel((10,10), \"$(n+g+\\delta)k$\", options=['right'])\n",
    "t.addLabel((10,10.8), \"$f(k)$\", options=['right'])\n",
    "t.addLabel((10,7.12), \"$sf(k)$\", options=['right'])\n",
    "\n",
    "print(t.build())"
   ]
  },
  {
   "cell_type": "code",
   "execution_count": 20,
   "metadata": {
    "collapsed": false
   },
   "outputs": [
    {
     "data": {
      "text/plain": [
       "'947f92f8-d82c-11e6-ab35-9801a7a75913'"
      ]
     },
     "execution_count": 20,
     "metadata": {},
     "output_type": "execute_result"
    }
   ],
   "source": [
    "x = uuid.uuid1()\n",
    "str(x)"
   ]
  },
  {
   "cell_type": "code",
   "execution_count": null,
   "metadata": {
    "collapsed": true
   },
   "outputs": [],
   "source": []
  }
 ],
 "metadata": {
  "kernelspec": {
   "display_name": "Python [Root]",
   "language": "python",
   "name": "Python [Root]"
  },
  "language_info": {
   "codemirror_mode": {
    "name": "ipython",
    "version": 3
   },
   "file_extension": ".py",
   "mimetype": "text/x-python",
   "name": "python",
   "nbconvert_exporter": "python",
   "pygments_lexer": "ipython3",
   "version": "3.5.2"
  }
 },
 "nbformat": 4,
 "nbformat_minor": 0
}
