{
 "cells": [
  {
   "cell_type": "code",
   "execution_count": 1,
   "metadata": {
    "collapsed": true
   },
   "outputs": [],
   "source": [
    "# Plan:\n",
    "\n",
    "# Class: TikZPicture\n",
    "# Members:\n",
    "# - points (coordinates)\n",
    "# - objects\n",
    "\n",
    "# Methods:\n",
    "# - produce TeX code\n",
    "# - add point (dot, no dot)\n",
    "# - add line (normal, thick, dashed)\n",
    "# - add label"
   ]
  },
  {
   "cell_type": "code",
   "execution_count": 13,
   "metadata": {
    "collapsed": false
   },
   "outputs": [],
   "source": [
    "class TikZPicture:\n",
    "    \n",
    "    def __init__(self):\n",
    "        self.coordinates = {}\n",
    "        self.objects = []\n",
    "        \n",
    "    def addCoordinate(self, x, y, name=\"\"):\n",
    "        self.coordinates[name] = (x,y)\n",
    "        \n",
    "    def addPoint(self, coordinate, label):\n",
    "        p = {\"kind\":\"point\",\\\n",
    "             \"label\":label,\\\n",
    "             \"coordinate\":coordinate}\n",
    "        self.objects.append(p)\n",
    "        \n",
    "    def addLine(self, begin, end):\n",
    "        p = {\"kind\":\"line\",\\\n",
    "             \"begin\":begin,\\\n",
    "             \"end\":end}\n",
    "        self.objects.append(p)\n",
    "        \n",
    "    # Draw Axes (0,y) -> (0,0) -> (x,0)\n",
    "    def drawAx(self, x, y, xlabel, ylabel):\n",
    "        \n",
    "        self.addCoordinate(0, y, \"yax\")\n",
    "        self.addCoordinate(x, 0, \"xax\")\n",
    "        \n",
    "        p = {\"kind\":\"axes\",\\\n",
    "            \"x\":\"xax\",\\\n",
    "            \"y\":\"yax\",\\\n",
    "            \"xlabel\":xlabel,\\\n",
    "            \"ylabel\":ylabel}\n",
    "        self.objects.append(p)\n",
    "        \n",
    "    # Output TikZ Code\n",
    "    def build(self):\n",
    "        tikzString = \"\"\n",
    "        tikzString += \"\\\\begin{tikzpicture}\\n\"\n",
    "        \n",
    "        # Add coordinates\n",
    "        for c in self.coordinates.keys():\n",
    "            tikzString += \"\\\\coordinate (%s) at (%d,%d);\" \\\n",
    "                % (c, self.coordinates[c][0], self.coordinates[c][1]) + \"\\n\"\n",
    "        \n",
    "        # Add objects\n",
    "        for o in self.objects:\n",
    "            if o['kind'] == \"axes\":\n",
    "                tikzString += \"\\\\draw[<->] (%s) node[above] {$%s$} -- (0,0) -- (%s) node[right]{$%s$}\" \\\n",
    "                    % (o['y'], o['ylabel'], o['x'], o['xlabel']) + \";\\n\"\n",
    "            if o['kind'] == \"point\":\n",
    "                tikzString += \"\\\\filldraw [black] (%s) circle (2pt) node[left, black] {$%s$}\" \\\n",
    "                    % (o['coordinate'], o['label']) + \";\\n\"\n",
    "            if o['kind'] == \"line\":\n",
    "                tikzString += \"\\\\draw plot coordinates {(%s) (%s)}\" \\\n",
    "                    % (o['begin'], o['end']) + \";\\n\"\n",
    "        \n",
    "        tikzString += \"\\\\end{tikzpicture}\\n\"\n",
    "        \n",
    "        return tikzString"
   ]
  },
  {
   "cell_type": "code",
   "execution_count": 14,
   "metadata": {
    "collapsed": false
   },
   "outputs": [
    {
     "name": "stdout",
     "output_type": "stream",
     "text": [
      "\\begin{tikzpicture}\n",
      "\\coordinate (xax) at (5,0);\n",
      "\\coordinate (foo1) at (1,2);\n",
      "\\coordinate (yax) at (0,5);\n",
      "\\coordinate (foo2) at (2,4);\n",
      "\\filldraw [black] (foo1) circle (2pt) node[left, black] {$fooPoint$};\n",
      "\\draw plot coordinates {(foo1) (foo2)};\n",
      "\\draw[<->] (yax) node[above] {$bananas$} -- (0,0) -- (xax) node[right]{$apples$};\n",
      "\\end{tikzpicture}\n",
      "\n"
     ]
    }
   ],
   "source": [
    "t = TikZPicture()\n",
    "t.addCoordinate(1,2,\"foo1\")\n",
    "t.addCoordinate(2,4,\"foo2\")\n",
    "t.addPoint(\"foo1\", \"fooPoint\")\n",
    "t.addLine(\"foo1\",\"foo2\")\n",
    "t.drawAx(5,5,\"apples\",\"bananas\")\n",
    "print(t.build())"
   ]
  },
  {
   "cell_type": "code",
   "execution_count": null,
   "metadata": {
    "collapsed": false
   },
   "outputs": [],
   "source": [
    "\"\" + \"f\""
   ]
  },
  {
   "cell_type": "code",
   "execution_count": 59,
   "metadata": {
    "collapsed": false
   },
   "outputs": [
    {
     "data": {
      "text/plain": [
       "{'a': 5, 'b': 10}"
      ]
     },
     "execution_count": 59,
     "metadata": {},
     "output_type": "execute_result"
    }
   ],
   "source": [
    "\n",
    "{\"a\":5, \\\n",
    " \"b\":10}"
   ]
  },
  {
   "cell_type": "code",
   "execution_count": null,
   "metadata": {
    "collapsed": true
   },
   "outputs": [],
   "source": []
  }
 ],
 "metadata": {
  "kernelspec": {
   "display_name": "Python [Root]",
   "language": "python",
   "name": "Python [Root]"
  },
  "language_info": {
   "codemirror_mode": {
    "name": "ipython",
    "version": 3
   },
   "file_extension": ".py",
   "mimetype": "text/x-python",
   "name": "python",
   "nbconvert_exporter": "python",
   "pygments_lexer": "ipython3",
   "version": "3.5.2"
  }
 },
 "nbformat": 4,
 "nbformat_minor": 0
}
